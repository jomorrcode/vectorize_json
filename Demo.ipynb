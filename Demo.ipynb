{
 "cells": [
  {
   "cell_type": "markdown",
   "metadata": {},
   "source": [
    "# Demo for Image Gen Project\n",
    "\n",
    "### JSON Vectorization to Improve Performance"
   ]
  },
  {
   "cell_type": "code",
   "execution_count": 1,
   "metadata": {},
   "outputs": [],
   "source": [
    "from collections.abc import MutableMapping\n",
    "import numpy as np\n",
    "from sklearn.feature_extraction.text import CountVectorizer\n",
    "from scipy.spatial import distance\n",
    "import scipy.sparse\n",
    "import json\n",
    "import pickle"
   ]
  },
  {
   "cell_type": "markdown",
   "metadata": {},
   "source": [
    "### Load Mock Database of JSON Descriptions of Images\n",
    "\n",
    "This loads 1 million lines of json, each describing the mock attributes of an image"
   ]
  },
  {
   "cell_type": "code",
   "execution_count": 2,
   "metadata": {},
   "outputs": [],
   "source": [
    "with open(\"sample_json_1000000.json\", 'r') as fin:\n",
    "    dict_list = json.load(fin)"
   ]
  },
  {
   "cell_type": "code",
   "execution_count": 3,
   "metadata": {},
   "outputs": [
    {
     "data": {
      "text/plain": [
       "1000000"
      ]
     },
     "execution_count": 3,
     "metadata": {},
     "output_type": "execute_result"
    }
   ],
   "source": [
    "len(dict_list)"
   ]
  },
  {
   "cell_type": "code",
   "execution_count": 4,
   "metadata": {},
   "outputs": [
    {
     "data": {
      "text/plain": [
       "{'sex': 'female',\n",
       " 'age': 74,\n",
       " 'skin': {'wrinkles': True},\n",
       " 'hair': {'colour': 'blonde', 'length': 'short', 'texture': 'straight'},\n",
       " 'emotion': 'angry',\n",
       " 'ears': 'big',\n",
       " 'eyebrows': 'arched',\n",
       " 'accessories': 'earrings'}"
      ]
     },
     "execution_count": 4,
     "metadata": {},
     "output_type": "execute_result"
    }
   ],
   "source": [
    "dict_list[0]"
   ]
  },
  {
   "cell_type": "markdown",
   "metadata": {},
   "source": [
    "### Flatten the json objects & convert to strings\n",
    "\n",
    "In order to vectorize these objects, first we need them to be flat and converted into categorical strings.  Example:\n",
    "\n",
    "#### { 'hair' : { 'color' : 'brown' } } becomes 'hair.color.brown'\n",
    "\n",
    "\n",
    "\n"
   ]
  },
  {
   "cell_type": "code",
   "execution_count": 5,
   "metadata": {},
   "outputs": [],
   "source": [
    "def flatten_dict_gen(d, parent_key, sep):\n",
    "    for k, v in d.items():\n",
    "        new_key = parent_key + sep + k if parent_key else k\n",
    "        if isinstance(v, MutableMapping):      # testing if the value is itself a mutable key/value object\n",
    "            yield from flatten_dict(v, new_key, sep=sep).items()\n",
    "        else:\n",
    "            yield new_key, v"
   ]
  },
  {
   "cell_type": "code",
   "execution_count": 6,
   "metadata": {},
   "outputs": [],
   "source": [
    "def flatten_dict(d: MutableMapping, parent_key: str = '', sep: str = '.'):\n",
    "    return dict(flatten_dict_gen(d, parent_key, sep))"
   ]
  },
  {
   "cell_type": "code",
   "execution_count": 7,
   "metadata": {},
   "outputs": [],
   "source": [
    "def flat_to_string(in_dict):\n",
    "    dict_string = \" \".join([f\"{k}.{v}\" if v not in [0,1, True, False] else f\"{k}\" for k,v in in_dict.items()])\n",
    "    return dict_string"
   ]
  },
  {
   "cell_type": "code",
   "execution_count": 8,
   "metadata": {},
   "outputs": [
    {
     "name": "stdout",
     "output_type": "stream",
     "text": [
      "CPU times: user 8.37 s, sys: 79.7 ms, total: 8.45 s\n",
      "Wall time: 8.45 s\n"
     ]
    }
   ],
   "source": [
    "%%time\n",
    "string_list = []\n",
    "for item in dict_list:\n",
    "    flat = flatten_dict(item)\n",
    "    dict_string = flat_to_string(flat)\n",
    "    string_list.append(dict_string)"
   ]
  },
  {
   "cell_type": "code",
   "execution_count": 9,
   "metadata": {},
   "outputs": [
    {
     "data": {
      "text/plain": [
       "1000000"
      ]
     },
     "execution_count": 9,
     "metadata": {},
     "output_type": "execute_result"
    }
   ],
   "source": [
    "len(string_list)"
   ]
  },
  {
   "cell_type": "markdown",
   "metadata": {},
   "source": [
    "#### Compare the original dict and the new string"
   ]
  },
  {
   "cell_type": "code",
   "execution_count": 10,
   "metadata": {
    "scrolled": true
   },
   "outputs": [
    {
     "data": {
      "text/plain": [
       "{'sex': 'female',\n",
       " 'age': 74,\n",
       " 'skin': {'wrinkles': True},\n",
       " 'hair': {'colour': 'blonde', 'length': 'short', 'texture': 'straight'},\n",
       " 'emotion': 'angry',\n",
       " 'ears': 'big',\n",
       " 'eyebrows': 'arched',\n",
       " 'accessories': 'earrings'}"
      ]
     },
     "execution_count": 10,
     "metadata": {},
     "output_type": "execute_result"
    }
   ],
   "source": [
    "dict_list[0]"
   ]
  },
  {
   "cell_type": "code",
   "execution_count": 11,
   "metadata": {},
   "outputs": [
    {
     "data": {
      "text/plain": [
       "'sex.female age.74 skin.wrinkles hair.colour.blonde hair.length.short hair.texture.straight emotion.angry ears.big eyebrows.arched accessories.earrings'"
      ]
     },
     "execution_count": 11,
     "metadata": {},
     "output_type": "execute_result"
    }
   ],
   "source": [
    "string_list[0]"
   ]
  },
  {
   "cell_type": "markdown",
   "metadata": {},
   "source": [
    "#### Create a sparse matrix of the strings\n",
    "\n",
    "This only has to be done on startup, not the every time you compare a user input.   "
   ]
  },
  {
   "cell_type": "code",
   "execution_count": 12,
   "metadata": {},
   "outputs": [],
   "source": [
    "vectorizer = CountVectorizer(token_pattern='\\S+', binary=True)"
   ]
  },
  {
   "cell_type": "code",
   "execution_count": 13,
   "metadata": {},
   "outputs": [
    {
     "name": "stdout",
     "output_type": "stream",
     "text": [
      "CPU times: user 6.14 s, sys: 233 ms, total: 6.37 s\n",
      "Wall time: 6.36 s\n"
     ]
    }
   ],
   "source": [
    "%%time\n",
    "db_matrix = vectorizer.fit_transform(string_list)"
   ]
  },
  {
   "cell_type": "code",
   "execution_count": 14,
   "metadata": {},
   "outputs": [
    {
     "data": {
      "text/plain": [
       "<1000000x102 sparse matrix of type '<class 'numpy.int64'>'\n",
       "\twith 6205181 stored elements in Compressed Sparse Row format>"
      ]
     },
     "execution_count": 14,
     "metadata": {},
     "output_type": "execute_result"
    }
   ],
   "source": [
    "db_matrix"
   ]
  },
  {
   "cell_type": "code",
   "execution_count": 15,
   "metadata": {
    "scrolled": false
   },
   "outputs": [],
   "source": [
    "db_array = db_matrix.toarray()"
   ]
  },
  {
   "cell_type": "code",
   "execution_count": 16,
   "metadata": {},
   "outputs": [
    {
     "data": {
      "text/plain": [
       "array([[1, 0, 0, ..., 0, 0, 1],\n",
       "       [0, 0, 0, ..., 1, 0, 0],\n",
       "       [0, 0, 0, ..., 0, 0, 1],\n",
       "       ...,\n",
       "       [0, 0, 0, ..., 0, 0, 1],\n",
       "       [0, 0, 0, ..., 0, 0, 1],\n",
       "       [0, 0, 0, ..., 1, 0, 0]])"
      ]
     },
     "execution_count": 16,
     "metadata": {},
     "output_type": "execute_result"
    }
   ],
   "source": [
    "db_array"
   ]
  },
  {
   "cell_type": "code",
   "execution_count": 17,
   "metadata": {},
   "outputs": [],
   "source": [
    "db_features = vectorizer.get_feature_names()"
   ]
  },
  {
   "cell_type": "code",
   "execution_count": 18,
   "metadata": {
    "scrolled": true
   },
   "outputs": [
    {
     "data": {
      "text/plain": [
       "['accessories.earrings',\n",
       " 'accessories.glasses',\n",
       " 'accessories.hat',\n",
       " 'age.10',\n",
       " 'age.11',\n",
       " 'age.12',\n",
       " 'age.13',\n",
       " 'age.14',\n",
       " 'age.15',\n",
       " 'age.16',\n",
       " 'age.17',\n",
       " 'age.18',\n",
       " 'age.19',\n",
       " 'age.20',\n",
       " 'age.21',\n",
       " 'age.22',\n",
       " 'age.23',\n",
       " 'age.24',\n",
       " 'age.25',\n",
       " 'age.26',\n",
       " 'age.27',\n",
       " 'age.28',\n",
       " 'age.29',\n",
       " 'age.30',\n",
       " 'age.31',\n",
       " 'age.32',\n",
       " 'age.33',\n",
       " 'age.34',\n",
       " 'age.35',\n",
       " 'age.36',\n",
       " 'age.37',\n",
       " 'age.38',\n",
       " 'age.39',\n",
       " 'age.40',\n",
       " 'age.41',\n",
       " 'age.42',\n",
       " 'age.43',\n",
       " 'age.44',\n",
       " 'age.45',\n",
       " 'age.46',\n",
       " 'age.47',\n",
       " 'age.48',\n",
       " 'age.49',\n",
       " 'age.50',\n",
       " 'age.51',\n",
       " 'age.52',\n",
       " 'age.53',\n",
       " 'age.54',\n",
       " 'age.55',\n",
       " 'age.56',\n",
       " 'age.57',\n",
       " 'age.58',\n",
       " 'age.59',\n",
       " 'age.60',\n",
       " 'age.61',\n",
       " 'age.62',\n",
       " 'age.63',\n",
       " 'age.64',\n",
       " 'age.65',\n",
       " 'age.66',\n",
       " 'age.67',\n",
       " 'age.68',\n",
       " 'age.69',\n",
       " 'age.70',\n",
       " 'age.71',\n",
       " 'age.72',\n",
       " 'age.73',\n",
       " 'age.74',\n",
       " 'age.75',\n",
       " 'age.76',\n",
       " 'age.77',\n",
       " 'age.78',\n",
       " 'age.79',\n",
       " 'age.80',\n",
       " 'ears.big',\n",
       " 'ears.droopy',\n",
       " 'ears.huge',\n",
       " 'emotion.angry',\n",
       " 'emotion.happy',\n",
       " 'emotion.sad',\n",
       " 'ethnicity.asian',\n",
       " 'ethnicity.black',\n",
       " 'ethnicity.caucasian',\n",
       " 'ethnicity.hispanic',\n",
       " 'ethnicity.indigenous',\n",
       " 'eyebrows.arched',\n",
       " 'eyebrows.bushy',\n",
       " 'eyebrows.straight',\n",
       " 'hair.colour.black',\n",
       " 'hair.colour.blonde',\n",
       " 'hair.colour.brown',\n",
       " 'hair.colour.gray',\n",
       " 'hair.length.long',\n",
       " 'hair.length.medium',\n",
       " 'hair.length.short',\n",
       " 'hair.texture.curly',\n",
       " 'hair.texture.straight',\n",
       " 'hair.texture.wavy',\n",
       " 'sex.female',\n",
       " 'sex.male',\n",
       " 'skin.scars',\n",
       " 'skin.wrinkles']"
      ]
     },
     "execution_count": 18,
     "metadata": {},
     "output_type": "execute_result"
    }
   ],
   "source": [
    "db_features"
   ]
  },
  {
   "cell_type": "markdown",
   "metadata": {},
   "source": [
    "#### Save the vectorizer for future use"
   ]
  },
  {
   "cell_type": "code",
   "execution_count": 19,
   "metadata": {},
   "outputs": [],
   "source": [
    "with open(\"vectorizer.pickle\", \"wb\") as fout:\n",
    "    pickle.dump(vectorizer,fout)"
   ]
  },
  {
   "cell_type": "code",
   "execution_count": null,
   "metadata": {},
   "outputs": [],
   "source": [
    "# to reload the vectorizer\n",
    "#with open(\"vectorizer.pickle\", \"rb\") as fin3:\n",
    "#    test =pickle.load(fin3)"
   ]
  },
  {
   "cell_type": "markdown",
   "metadata": {},
   "source": [
    "### Vectorize the user input"
   ]
  },
  {
   "cell_type": "code",
   "execution_count": 20,
   "metadata": {},
   "outputs": [],
   "source": [
    "# simulated user input json\n",
    "\n",
    "input_json = {\n",
    "    'sex' : 'male',\n",
    "    'age' : 55,\n",
    "    'ears' : 'big',\n",
    "    'hair' : {'colour':'blonde' }\n",
    "}"
   ]
  },
  {
   "cell_type": "markdown",
   "metadata": {},
   "source": [
    "#### Flatten and convert to string just like json from the database"
   ]
  },
  {
   "cell_type": "code",
   "execution_count": 21,
   "metadata": {},
   "outputs": [],
   "source": [
    "flat_input = flatten_dict(input_json)\n",
    "input_string = flat_to_string(flat_input)"
   ]
  },
  {
   "cell_type": "code",
   "execution_count": 22,
   "metadata": {},
   "outputs": [
    {
     "data": {
      "text/plain": [
       "'sex.male age.55 ears.big hair.colour.blonde'"
      ]
     },
     "execution_count": 22,
     "metadata": {},
     "output_type": "execute_result"
    }
   ],
   "source": [
    "input_string"
   ]
  },
  {
   "cell_type": "markdown",
   "metadata": {},
   "source": [
    "#### Note: the input string needs to be inside a list (done below)"
   ]
  },
  {
   "cell_type": "code",
   "execution_count": 23,
   "metadata": {},
   "outputs": [],
   "source": [
    "input_matrix = vectorizer.transform([input_string])"
   ]
  },
  {
   "cell_type": "code",
   "execution_count": 24,
   "metadata": {},
   "outputs": [
    {
     "data": {
      "text/plain": [
       "<1x102 sparse matrix of type '<class 'numpy.int64'>'\n",
       "\twith 4 stored elements in Compressed Sparse Row format>"
      ]
     },
     "execution_count": 24,
     "metadata": {},
     "output_type": "execute_result"
    }
   ],
   "source": [
    "input_matrix"
   ]
  },
  {
   "cell_type": "code",
   "execution_count": 25,
   "metadata": {},
   "outputs": [],
   "source": [
    "input_array = input_matrix.toarray()"
   ]
  },
  {
   "cell_type": "markdown",
   "metadata": {},
   "source": [
    "### Find the five nearest matching rows in the db_array"
   ]
  },
  {
   "cell_type": "code",
   "execution_count": 26,
   "metadata": {},
   "outputs": [
    {
     "name": "stdout",
     "output_type": "stream",
     "text": [
      "CPU times: user 578 ms, sys: 479 ms, total: 1.06 s\n",
      "Wall time: 1.06 s\n"
     ]
    }
   ],
   "source": [
    "%%time\n",
    "distances = distance.cdist(input_array, db_array, \"cosine\")[0]\n",
    "five_closest = np.argsort(distances)[:5]  # get N closest matches\n",
    "#closest_match = np.argmin(distances) # this gives index of closest match\n"
   ]
  },
  {
   "cell_type": "markdown",
   "metadata": {},
   "source": [
    "### Display indexes of five closest matching rows"
   ]
  },
  {
   "cell_type": "code",
   "execution_count": 27,
   "metadata": {},
   "outputs": [
    {
     "data": {
      "text/plain": [
       "array([849770, 356286, 882888, 572881, 753306])"
      ]
     },
     "execution_count": 27,
     "metadata": {},
     "output_type": "execute_result"
    }
   ],
   "source": [
    "five_closest"
   ]
  },
  {
   "cell_type": "markdown",
   "metadata": {},
   "source": [
    "#### Compare input array and closest match"
   ]
  },
  {
   "cell_type": "code",
   "execution_count": 28,
   "metadata": {
    "scrolled": true
   },
   "outputs": [
    {
     "data": {
      "text/plain": [
       "array([[0, 0, 0, 0, 0, 0, 0, 0, 0, 0, 0, 0, 0, 0, 0, 0, 0, 0, 0, 0, 0, 0,\n",
       "        0, 0, 0, 0, 0, 0, 0, 0, 0, 0, 0, 0, 0, 0, 0, 0, 0, 0, 0, 0, 0, 0,\n",
       "        0, 0, 0, 0, 1, 0, 0, 0, 0, 0, 0, 0, 0, 0, 0, 0, 0, 0, 0, 0, 0, 0,\n",
       "        0, 0, 0, 0, 0, 0, 0, 0, 1, 0, 0, 0, 0, 0, 0, 0, 0, 0, 0, 0, 0, 0,\n",
       "        0, 1, 0, 0, 0, 0, 0, 0, 0, 0, 0, 1, 0, 0]])"
      ]
     },
     "execution_count": 28,
     "metadata": {},
     "output_type": "execute_result"
    }
   ],
   "source": [
    "input_array"
   ]
  },
  {
   "cell_type": "code",
   "execution_count": 29,
   "metadata": {},
   "outputs": [
    {
     "data": {
      "text/plain": [
       "array([0, 0, 0, 0, 0, 0, 0, 0, 0, 0, 0, 0, 0, 0, 0, 0, 0, 0, 0, 0, 0, 0,\n",
       "       0, 0, 0, 0, 0, 0, 0, 0, 0, 0, 0, 0, 0, 0, 0, 0, 0, 0, 0, 0, 0, 0,\n",
       "       0, 0, 0, 0, 1, 0, 0, 0, 0, 0, 0, 0, 0, 0, 0, 0, 0, 0, 0, 0, 0, 0,\n",
       "       0, 0, 0, 0, 0, 0, 0, 0, 1, 0, 0, 0, 0, 0, 0, 0, 0, 0, 0, 0, 0, 0,\n",
       "       0, 1, 0, 0, 0, 0, 0, 1, 0, 0, 0, 1, 0, 0])"
      ]
     },
     "execution_count": 29,
     "metadata": {},
     "output_type": "execute_result"
    }
   ],
   "source": [
    "db_array[five_closest[0]]"
   ]
  },
  {
   "cell_type": "markdown",
   "metadata": {},
   "source": [
    "### Verify that features/values are close to input"
   ]
  },
  {
   "cell_type": "code",
   "execution_count": 30,
   "metadata": {
    "scrolled": true
   },
   "outputs": [],
   "source": [
    "verify_dict = dict(zip(db_features,db_array[five_closest[0]].tolist()))"
   ]
  },
  {
   "cell_type": "code",
   "execution_count": 31,
   "metadata": {},
   "outputs": [
    {
     "data": {
      "text/plain": [
       "{'age.55': 1,\n",
       " 'ears.big': 1,\n",
       " 'hair.colour.blonde': 1,\n",
       " 'hair.texture.curly': 1,\n",
       " 'sex.male': 1}"
      ]
     },
     "execution_count": 31,
     "metadata": {},
     "output_type": "execute_result"
    }
   ],
   "source": [
    "# show non-zero values in closest row\n",
    "{k:v for k,v in verify_dict.items() if v !=0}"
   ]
  },
  {
   "cell_type": "code",
   "execution_count": 32,
   "metadata": {},
   "outputs": [
    {
     "data": {
      "text/plain": [
       "{'sex': 'male', 'age': 55, 'ears': 'big', 'hair': {'colour': 'blonde'}}"
      ]
     },
     "execution_count": 32,
     "metadata": {},
     "output_type": "execute_result"
    }
   ],
   "source": [
    "# show the input json for comparison\n",
    "input_json"
   ]
  },
  {
   "cell_type": "markdown",
   "metadata": {},
   "source": [
    "#### Distance to closest matches"
   ]
  },
  {
   "cell_type": "code",
   "execution_count": 33,
   "metadata": {
    "scrolled": true
   },
   "outputs": [
    {
     "data": {
      "text/plain": [
       "0.10557280900008414"
      ]
     },
     "execution_count": 33,
     "metadata": {},
     "output_type": "execute_result"
    }
   ],
   "source": [
    "#closest match\n",
    "distances[five_closest[0]]"
   ]
  },
  {
   "cell_type": "code",
   "execution_count": 34,
   "metadata": {},
   "outputs": [
    {
     "data": {
      "text/plain": [
       "0.10557280900008414"
      ]
     },
     "execution_count": 34,
     "metadata": {},
     "output_type": "execute_result"
    }
   ],
   "source": [
    "#fifth closest match\n",
    "distances[five_closest[4]]"
   ]
  },
  {
   "cell_type": "code",
   "execution_count": null,
   "metadata": {},
   "outputs": [],
   "source": []
  }
 ],
 "metadata": {
  "kernelspec": {
   "display_name": "data",
   "language": "python",
   "name": "data"
  },
  "language_info": {
   "codemirror_mode": {
    "name": "ipython",
    "version": 3
   },
   "file_extension": ".py",
   "mimetype": "text/x-python",
   "name": "python",
   "nbconvert_exporter": "python",
   "pygments_lexer": "ipython3",
   "version": "3.8.5"
  }
 },
 "nbformat": 4,
 "nbformat_minor": 4
}
