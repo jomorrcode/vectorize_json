{
 "cells": [
  {
   "cell_type": "code",
   "execution_count": 1,
   "metadata": {},
   "outputs": [],
   "source": [
    "from random import choice, randint\n",
    "import json"
   ]
  },
  {
   "cell_type": "code",
   "execution_count": 2,
   "metadata": {},
   "outputs": [],
   "source": [
    "sex = ['male', 'female']\n",
    "skin = ['wrinkles', 'scars']\n",
    "hair = ['colour', 'length', 'texture']\n",
    "colour = ['blonde', 'black', 'brown', 'gray']\n",
    "length = ['long', 'short', 'medium']\n",
    "texture = ['wavy', 'straight', 'curly']\n",
    "ethnicity = ['asian', 'caucasian', 'black', 'hispanic', 'indigenous']\n",
    "emotion = ['happy', 'sad', 'angry']\n",
    "ears = ['big', 'huge', 'droopy']\n",
    "eyebrows = ['bushy', 'arched', 'straight']\n",
    "accessories = ['glasses', 'hat', 'earrings']\n"
   ]
  },
  {
   "cell_type": "code",
   "execution_count": 3,
   "metadata": {},
   "outputs": [],
   "source": [
    "def percentage():\n",
    "    return randint(1,100)"
   ]
  },
  {
   "cell_type": "code",
   "execution_count": 4,
   "metadata": {},
   "outputs": [],
   "source": [
    "def build_random_dict():\n",
    "    attr_dict = {}\n",
    "    attr_dict['sex'] = choice(sex)\n",
    "    attr_dict['age'] = randint(10,80)\n",
    "    if percentage() < 41:\n",
    "        attr_dict['skin'] = {}\n",
    "        attr_dict['skin']['wrinkles'] = True\n",
    "    if percentage() < 16:\n",
    "        if not 'skin' in attr_dict:\n",
    "            attr_dict['skin'] = {}\n",
    "        attr_dict['skin']['scars'] = True\n",
    "    if percentage() < 51:\n",
    "        if not 'hair' in attr_dict:\n",
    "            attr_dict['hair'] = {}\n",
    "        attr_dict['hair']['colour'] = choice(colour)\n",
    "    if percentage() < 51:\n",
    "        if not 'hair' in attr_dict:\n",
    "            attr_dict['hair'] = {}\n",
    "        attr_dict['hair']['length'] = choice(length)\n",
    "    if percentage() < 51:\n",
    "        if not 'hair' in attr_dict:\n",
    "            attr_dict['hair'] = {}\n",
    "        attr_dict['hair']['texture'] = choice(texture)\n",
    "    if percentage() < 71:\n",
    "        attr_dict['ethnicity'] = choice(ethnicity)\n",
    "    if percentage() < 51:\n",
    "        attr_dict['emotion'] = choice(emotion)\n",
    "    if percentage() < 31:\n",
    "        attr_dict['ears'] = choice(ears)\n",
    "    if percentage() < 41:\n",
    "        attr_dict['eyebrows'] = choice(eyebrows)\n",
    "    if percentage() < 26:\n",
    "        attr_dict['accessories'] = choice(accessories)\n",
    "    \n",
    "    return attr_dict\n",
    "    \n",
    "        \n",
    "        "
   ]
  },
  {
   "cell_type": "code",
   "execution_count": 5,
   "metadata": {},
   "outputs": [],
   "source": [
    "dict_list = [build_random_dict() for x in range(1000000)]"
   ]
  },
  {
   "cell_type": "code",
   "execution_count": 6,
   "metadata": {},
   "outputs": [],
   "source": [
    "with open(\"sample_json_1000000.json\", 'w') as fout:\n",
    "    json.dump(dict_list,fout)"
   ]
  },
  {
   "cell_type": "code",
   "execution_count": null,
   "metadata": {},
   "outputs": [],
   "source": []
  }
 ],
 "metadata": {
  "kernelspec": {
   "display_name": "data",
   "language": "python",
   "name": "data"
  },
  "language_info": {
   "codemirror_mode": {
    "name": "ipython",
    "version": 3
   },
   "file_extension": ".py",
   "mimetype": "text/x-python",
   "name": "python",
   "nbconvert_exporter": "python",
   "pygments_lexer": "ipython3",
   "version": "3.8.5"
  }
 },
 "nbformat": 4,
 "nbformat_minor": 5
}
